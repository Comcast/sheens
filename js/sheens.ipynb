{
 "cells": [
  {
   "cell_type": "markdown",
   "metadata": {},
   "source": [
    "# A demonstration of a Little Sheens Jupyter notebook\n",
    "\n",
    "This notebook uses a simple fork of Little Sheens that has a tool that generates an `npm` module based on the existing Javascript sources. The actual kernel that's running is [ijavascript](https://github.com/n-riesco/ijavascript), which was easy enough to install.\n",
    "\n",
    "So now there's literate Sheens programming?"
   ]
  },
  {
   "cell_type": "code",
   "execution_count": 24,
   "metadata": {
    "collapsed": true
   },
   "outputs": [],
   "source": [
    "var s = require('littlesheens')"
   ]
  },
  {
   "cell_type": "markdown",
   "metadata": {},
   "source": [
    "Let's do a quick test. The module exposes the `match` function:"
   ]
  },
  {
   "cell_type": "code",
   "execution_count": 2,
   "metadata": {},
   "outputs": [
    {
     "data": {
      "text/plain": [
       "[ { '?x': 1 } ]"
      ]
     },
     "execution_count": 2,
     "metadata": {},
     "output_type": "execute_result"
    }
   ],
   "source": [
    "s.match(null, {\"x\":\"?x\"}, {\"x\":1}, {})"
   ]
  },
  {
   "cell_type": "markdown",
   "metadata": {},
   "source": [
    "Now let's define a spec (and write it in JSON). This example is straight from the [Little Sheens](https://github.com/Comcast/littlesheens) repo."
   ]
  },
  {
   "cell_type": "code",
   "execution_count": 3,
   "metadata": {
    "collapsed": true
   },
   "outputs": [],
   "source": [
    "var spec = {\n",
    "  \"doc\": \"A machine that double numbers and protests requests for doubling non-numbers.\",\n",
    "  \"name\": \"double\",\n",
    "  \"nodes\": {\n",
    "    \"cleanup\": {\n",
    "      \"action\": {\n",
    "        \"interpreter\": \"ecmascript\",\n",
    "        \"source\": \"delete _.bindings[\\\"?x\\\"];\\nreturn _.bindings;\"\n",
    "      },\n",
    "      \"branching\": {\n",
    "        \"branches\": [\n",
    "          {\n",
    "            \"target\": \"listen\"\n",
    "          }\n",
    "        ]\n",
    "      }\n",
    "    },\n",
    "    \"complain\": {\n",
    "      \"action\": {\n",
    "        \"interpreter\": \"ecmascript\",\n",
    "        \"source\": \"_.out({bad: _.bindings[\\\"?x\\\"]});\\nreturn _.bindings;\"\n",
    "      },\n",
    "      \"branching\": {\n",
    "        \"branches\": [\n",
    "          {\n",
    "            \"target\": \"cleanup\"\n",
    "          }\n",
    "        ]\n",
    "      }\n",
    "    },\n",
    "    \"double\": {\n",
    "      \"action\": {\n",
    "        \"interpreter\": \"ecmascript\",\n",
    "        \"source\": \"_.out({doubled: _.bindings[\\\"?x\\\"]*2});\\n_.bindings.count++;\\nreturn _.bindings;\"\n",
    "      },\n",
    "      \"branching\": {\n",
    "        \"branches\": [\n",
    "          {\n",
    "            \"target\": \"cleanup\"\n",
    "          }\n",
    "        ]\n",
    "      }\n",
    "    },\n",
    "    \"listen\": {\n",
    "      \"branching\": {\n",
    "        \"branches\": [\n",
    "          {\n",
    "            \"guard\": {\n",
    "              \"interpreter\": \"ecmascript\",\n",
    "              \"source\": \"var bs = _.bindings;\\nvar f = parseFloat(bs[\\\"?x\\\"]);\\nif (isNaN(f)) {\\n   return nil;\\n}\\nbs[\\\"?x\\\"] = f;\\nreturn bs;\"\n",
    "            },\n",
    "            \"pattern\": \"{\\\"double\\\":\\\"?x\\\"}\\n\",\n",
    "            \"target\": \"double\"\n",
    "          },\n",
    "          {\n",
    "            \"pattern\": \"{\\\"double\\\": \\\"?x\\\"}\\n\",\n",
    "            \"target\": \"complain\"\n",
    "          }\n",
    "        ],\n",
    "        \"type\": \"message\"\n",
    "      }\n",
    "    },\n",
    "    \"start\": {\n",
    "      \"branching\": {\n",
    "        \"branches\": [\n",
    "          {\n",
    "            \"target\": \"listen\"\n",
    "          }\n",
    "        ]\n",
    "      }\n",
    "    }\n",
    "  },\n",
    "  \"parsepatterns\": true\n",
    "};"
   ]
  },
  {
   "cell_type": "markdown",
   "metadata": {},
   "source": [
    "Can we actually use that spec?"
   ]
  },
  {
   "cell_type": "code",
   "execution_count": 4,
   "metadata": {},
   "outputs": [],
   "source": [
    "var walked = s.walk(null, spec, null, {\"double\":2})"
   ]
  },
  {
   "cell_type": "code",
   "execution_count": 5,
   "metadata": {},
   "outputs": [
    {
     "name": "stdout",
     "output_type": "stream",
     "text": [
      "I actually got output: [{\"doubled\":4}]\n"
     ]
    }
   ],
   "source": [
    "console.log(\"I actually got output: \" + JSON.stringify(walked.emitted))"
   ]
  },
  {
   "cell_type": "markdown",
   "metadata": {},
   "source": [
    "Sweet victory is ours."
   ]
  },
  {
   "cell_type": "markdown",
   "metadata": {},
   "source": [
    "Now let's check out the profiling support we have."
   ]
  },
  {
   "cell_type": "code",
   "execution_count": 6,
   "metadata": {
    "collapsed": true
   },
   "outputs": [],
   "source": [
    "s.times.enable()"
   ]
  },
  {
   "cell_type": "code",
   "execution_count": 7,
   "metadata": {},
   "outputs": [
    {
     "data": {
      "text/plain": [
       "{ to: { node: 'listen', bs: { count: null } },\n",
       "  consumed: true,\n",
       "  emitted: [ { doubled: 4 } ] }"
      ]
     },
     "execution_count": 7,
     "metadata": {},
     "output_type": "execute_result"
    }
   ],
   "source": [
    "s.walk(null, spec, null, {\"double\":2})"
   ]
  },
  {
   "cell_type": "code",
   "execution_count": 8,
   "metadata": {},
   "outputs": [
    {
     "data": {
      "text/plain": [
       "{ step: { ms: 39, n: 5 },\n",
       "  match: { ms: 0, n: 1 },\n",
       "  sandbox: { ms: 38, n: 3 } }"
      ]
     },
     "execution_count": 8,
     "metadata": {},
     "output_type": "execute_result"
    }
   ],
   "source": [
    "s.times.summary()"
   ]
  },
  {
   "cell_type": "code",
   "execution_count": 9,
   "metadata": {},
   "outputs": [
    {
     "data": {
      "text/plain": [
       "{ to: { node: 'listen', bs: { count: null } },\n",
       "  consumed: true,\n",
       "  emitted: [ { doubled: 4 } ] }"
      ]
     },
     "execution_count": 9,
     "metadata": {},
     "output_type": "execute_result"
    }
   ],
   "source": [
    "for (var i = 0; i < 10; i++) { s.walk(null, spec, null, {\"double\":2}); }"
   ]
  },
  {
   "cell_type": "code",
   "execution_count": 10,
   "metadata": {},
   "outputs": [
    {
     "data": {
      "text/plain": [
       "{ step: { ms: 368, n: 55 },\n",
       "  match: { ms: 1, n: 11 },\n",
       "  sandbox: { ms: 366, n: 33 } }"
      ]
     },
     "execution_count": 10,
     "metadata": {},
     "output_type": "execute_result"
    }
   ],
   "source": [
    "s.times.summary()"
   ]
  },
  {
   "cell_type": "code",
   "execution_count": 13,
   "metadata": {},
   "outputs": [
    {
     "data": {
      "text/plain": [
       "11.090909090909092"
      ]
     },
     "execution_count": 13,
     "metadata": {},
     "output_type": "execute_result"
    }
   ],
   "source": [
    "var sandboxes = s.times.summary().sandbox;\n",
    "sandboxes.ms/sandboxes.n;"
   ]
  },
  {
   "cell_type": "markdown",
   "metadata": {},
   "source": [
    "About 11ms on average for a sandboxed action execution. Okay, I'm running in a small VM on an older Macbook."
   ]
  },
  {
   "cell_type": "code",
   "execution_count": 15,
   "metadata": {},
   "outputs": [
    {
     "data": {
      "text/plain": [
       "[ { doubled: 0 },\n",
       "  { doubled: 2 },\n",
       "  { doubled: 4 },\n",
       "  { doubled: 6 },\n",
       "  { doubled: 8 },\n",
       "  { doubled: 10 },\n",
       "  { doubled: 12 },\n",
       "  { doubled: 14 },\n",
       "  { doubled: 16 },\n",
       "  { doubled: 18 } ]"
      ]
     },
     "execution_count": 15,
     "metadata": {},
     "output_type": "execute_result"
    }
   ],
   "source": [
    "var emitted = [];\n",
    "for (var i = 0; i < 10; i++) {\n",
    "    var walked = s.walk(null, spec, null, {\"double\":i});\n",
    "    emitted = emitted.concat(walked.emitted);\n",
    "}\n",
    "emitted;"
   ]
  },
  {
   "cell_type": "code",
   "execution_count": 16,
   "metadata": {},
   "outputs": [
    {
     "data": {
      "text/plain": [
       "{ step: { ms: 1295, n: 155 },\n",
       "  match: { ms: 2, n: 31 },\n",
       "  sandbox: { ms: 1289, n: 93 } }"
      ]
     },
     "execution_count": 16,
     "metadata": {},
     "output_type": "execute_result"
    }
   ],
   "source": [
    "s.times.summary()"
   ]
  },
  {
   "cell_type": "code",
   "execution_count": 21,
   "metadata": {
    "collapsed": true
   },
   "outputs": [],
   "source": [
    "function go(n) {\n",
    "    s.times.reset();\n",
    "    var emitted = [];\n",
    "    for (var i = 0; i < 10; i++) {\n",
    "        var walked = s.walk(null, spec, null, {\"double\":i});\n",
    "        emitted = emitted.concat(walked.emitted);\n",
    "    }\n",
    "    var times = s.times.summary();\n",
    "    return {meanSandbox: times.sandbox.ms/times.sandbox.n, walked: n};\n",
    "}"
   ]
  },
  {
   "cell_type": "code",
   "execution_count": 23,
   "metadata": {},
   "outputs": [
    {
     "data": {
      "text/plain": [
       "{ meanSandbox: 13.933333333333334, walked: 100 }"
      ]
     },
     "execution_count": 23,
     "metadata": {},
     "output_type": "execute_result"
    }
   ],
   "source": [
    "go(100)"
   ]
  },
  {
   "cell_type": "code",
   "execution_count": null,
   "metadata": {
    "collapsed": true
   },
   "outputs": [],
   "source": []
  }
 ],
 "metadata": {
  "kernelspec": {
   "display_name": "Javascript (Node.js)",
   "language": "javascript",
   "name": "javascript"
  },
  "language_info": {
   "file_extension": ".js",
   "mimetype": "application/javascript",
   "name": "javascript",
   "version": "8.11.1"
  }
 },
 "nbformat": 4,
 "nbformat_minor": 2
}
